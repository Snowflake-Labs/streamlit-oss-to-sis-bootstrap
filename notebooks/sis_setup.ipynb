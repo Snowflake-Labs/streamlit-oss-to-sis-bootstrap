{
 "metadata": {
  "language_info": {
   "name": "python"
  }
 },
 "nbformat_minor": 2,
 "nbformat": 4,
 "cells": [
  {
   "cell_type": "markdown",
   "metadata": {
    "name": "cell1",
    "resultHeight": 282,
    "collapsed": false
   },
   "source": "# Preparing Snowflake\nThis note book will guide you through the required steps thats need to prepare your Snowflake account to deploy the demo [Streamlit ML App](https://github.com/kameshsampath/st-ml-app)\n\nTypically we wil \n\n- [x] Create Schemas and Tables\n- [x] Create a external stage to S3\n- [x] Load Penguins Dataset on the table",
   "id": "ce110000-1111-2222-3333-ffffff000000"
  },
  {
   "cell_type": "markdown",
   "id": "2568d714-4541-4058-8bf1-7b0cbbdc7ab5",
   "metadata": {
    "name": "cell3",
    "collapsed": false,
    "resultHeight": 342
   },
   "source": "## Schemas and Stages\n\nIn the next cell we will create the schemas and stages that will be used in this tutorial.\n\n### Schemas\n\n|Schema | Use|\n|------- |----------------|\n| apps | Will hold all applications e.g. Streamlit|\n| data | Will hold all data tables  |\n| stages | All  stages |\n| file_formats | All  file formats that will be used during data load |\n\n"
  },
  {
   "cell_type": "code",
   "id": "b28d9a98-b375-4db9-8219-0df97eb39f14",
   "metadata": {
    "language": "sql",
    "name": "cell2",
    "collapsed": false,
    "resultHeight": 111
   },
   "outputs": [],
   "source": "-- data schema\nCREATE SCHEMA IF NOT EXISTS DATA;\n-- create schema to hold all stages\nCREATE SCHEMA IF NOT EXISTS STAGES;\n-- create schema to hold all file formats\nCREATE SCHEMA IF NOT EXISTS FILE_FORMATS;\n-- apps to hold all streamlit apps\nCREATE SCHEMA IF NOT EXISTS APPS;",
   "execution_count": null
  },
  {
   "cell_type": "markdown",
   "id": "fc1af8cf-344c-46c5-9007-4b2dd0c28761",
   "metadata": {
    "name": "cell7",
    "collapsed": false,
    "resultHeight": 140
   },
   "source": "\n### Stages and File Format\n\nWe will create stage named `stages.st_ml_app_penguins` which will point to an s3 bucket `s3://sfquickstarts/misc` and it will use the file file format `file_formats.csv` to parse and laod CSV files."
  },
  {
   "cell_type": "code",
   "id": "579e0531-4a76-493b-9089-22e0b4a59e6f",
   "metadata": {
    "language": "sql",
    "name": "cell8"
   },
   "outputs": [],
   "source": "-- add an external stage to a s3 bucket\nCREATE STAGE IF NOT EXISTS STAGES.ST_ML_APP_PENGUINS\n  URL='s3://sfquickstarts/misc';\n\n-- default CSV file format and allow values to quoted by \"\nCREATE FILE FORMAT IF NOT EXISTS FILE_FORMATS.CSV\n  TYPE='CSV'\n  SKIP_HEADER=1\n  FIELD_OPTIONALLY_ENCLOSED_BY = '\"';",
   "execution_count": null
  },
  {
   "cell_type": "markdown",
   "id": "d7c9a1b2-01eb-4430-80dd-ad895d96a530",
   "metadata": {
    "name": "cell4",
    "collapsed": false,
    "resultHeight": 128
   },
   "source": "## Load \n\nAs part of next step let us load the data on `data.penguins` table using the file from `@stages.st_ml_app_penguins/penguins_cleaned.csv`"
  },
  {
   "cell_type": "code",
   "id": "3f387e15-1bfe-46a5-9ed8-7000d75afeef",
   "metadata": {
    "language": "sql",
    "name": "load_penguins_data",
    "collapsed": false,
    "resultHeight": 111,
    "codeCollapsed": false
   },
   "outputs": [],
   "source": "-- Create table to hold penguins data\nCREATE OR ALTER TABLE DATA.PENGUINS(\n   SPECIES STRING NOT NULL,\n   ISLAND STRING NOT NULL,\n   BILL_LENGTH_MM NUMBER NOT NULL,\n   BILL_DEPTH_MM NUMBER NOT NULL,\n   FLIPPER_LENGTH_MM NUMBER NOT NULL,\n   BODY_MASS_G NUMBER NOT NULL,\n   SEX STRING NOT NULL\n);\n\n-- Load the data from penguins_cleaned.csv\nCOPY INTO DATA.PENGUINS\nFROM @STAGES.ST_ML_APP_PENGUINS/PENGUINS_CLEANED.CSV\nFILE_FORMAT=(FORMAT_NAME='FILE_FORMATS.CSV');",
   "execution_count": null
  },
  {
   "cell_type": "markdown",
   "id": "cd53f3db-b787-4343-8726-2c5e8322d106",
   "metadata": {
    "name": "cell6",
    "collapsed": false,
    "resultHeight": 41
   },
   "source": "Let us select and verify the data,"
  },
  {
   "cell_type": "code",
   "id": "13ce4fc6-d28b-463f-85cf-b8dc42ae2fc0",
   "metadata": {
    "language": "python",
    "name": "cell5",
    "collapsed": false,
    "resultHeight": 335
   },
   "outputs": [],
   "source": "from snowflake.snowpark.context import get_active_session\n\nsession = get_active_session()\ndf = session.table('st_ml_app.data.penguins')\ndf.show()",
   "execution_count": null
  }
 ]
}